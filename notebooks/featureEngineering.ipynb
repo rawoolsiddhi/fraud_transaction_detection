{
 "cells": [
  {
   "cell_type": "code",
   "execution_count": 1,
   "id": "7d0b7937-0dc6-4422-a746-33af0ead1c40",
   "metadata": {},
   "outputs": [],
   "source": [
    "import pandas as pd\n",
    "import numpy as np\n",
    "import pickle\n",
    "import os\n",
    "\n",
    "from sklearn.preprocessing import LabelEncoder, StandardScaler\n",
    "\n",
    "# Display settings\n",
    "pd.set_option('display.max_columns', None)\n",
    "pd.set_option('display.max_rows', 100)"
   ]
  },
  {
   "cell_type": "code",
   "execution_count": 2,
   "id": "3253183a-030f-41fb-a590-3be0181909bc",
   "metadata": {},
   "outputs": [
    {
     "name": "stdout",
     "output_type": "stream",
     "text": [
      "<class 'pandas.core.frame.DataFrame'>\n",
      "RangeIndex: 1754155 entries, 0 to 1754154\n",
      "Data columns (total 9 columns):\n",
      " #   Column             Dtype         \n",
      "---  ------             -----         \n",
      " 0   TRANSACTION_ID     int64         \n",
      " 1   TX_DATETIME        datetime64[ns]\n",
      " 2   CUSTOMER_ID        object        \n",
      " 3   TERMINAL_ID        object        \n",
      " 4   TX_AMOUNT          float64       \n",
      " 5   TX_TIME_SECONDS    object        \n",
      " 6   TX_TIME_DAYS       object        \n",
      " 7   TX_FRAUD           int64         \n",
      " 8   TX_FRAUD_SCENARIO  int64         \n",
      "dtypes: datetime64[ns](1), float64(1), int64(3), object(4)\n",
      "memory usage: 120.4+ MB\n",
      "None\n",
      "   TRANSACTION_ID         TX_DATETIME CUSTOMER_ID TERMINAL_ID  TX_AMOUNT  \\\n",
      "0               0 2018-04-01 00:00:31         596        3156      57.16   \n",
      "1               1 2018-04-01 00:02:10        4961        3412      81.51   \n",
      "2               2 2018-04-01 00:07:56           2        1365     146.00   \n",
      "3               3 2018-04-01 00:09:29        4128        8737      64.49   \n",
      "4               4 2018-04-01 00:10:34         927        9906      50.99   \n",
      "\n",
      "  TX_TIME_SECONDS TX_TIME_DAYS  TX_FRAUD  TX_FRAUD_SCENARIO  \n",
      "0              31            0         0                  0  \n",
      "1             130            0         0                  0  \n",
      "2             476            0         0                  0  \n",
      "3             569            0         0                  0  \n",
      "4             634            0         0                  0  \n"
     ]
    }
   ],
   "source": [
    "\n",
    "folder_path = \"simulated-data-raw\"\n",
    "\n",
    "# List all pickle files in the folder\n",
    "pickle_files = [f for f in os.listdir(folder_path) if f.endswith('.pkl')]\n",
    "\n",
    "# Load all pickle files and merge them\n",
    "dataframes = []\n",
    "for file in pickle_files:\n",
    "    file_path = os.path.join(folder_path, file)\n",
    "    with open(file_path, \"rb\") as f:\n",
    "        df = pickle.load(f)\n",
    "        df = pd.DataFrame(df)  # Ensure it's a DataFrame\n",
    "        dataframes.append(df)\n",
    "\n",
    "# Concatenate all DataFrames\n",
    "final_df = pd.concat(dataframes, ignore_index=True)\n",
    "\n",
    "# Display dataset info\n",
    "print(final_df.info())\n",
    "print(final_df.head())\n"
   ]
  },
  {
   "cell_type": "code",
   "execution_count": 3,
   "id": "5d3e8f8a-7377-467e-a0ca-7d0c003ef3bc",
   "metadata": {},
   "outputs": [
    {
     "data": {
      "text/plain": [
       "Series([], dtype: int64)"
      ]
     },
     "execution_count": 3,
     "metadata": {},
     "output_type": "execute_result"
    }
   ],
   "source": [
    "# Check for Missing Values\n",
    "missing_values = final_df.isnull().sum()\n",
    "missing_values[missing_values > 0]"
   ]
  },
  {
   "cell_type": "raw",
   "id": "8de7c183-ccb5-4a8f-afbb-70e82da0a979",
   "metadata": {},
   "source": [
    "no missing values"
   ]
  },
  {
   "cell_type": "markdown",
   "id": "91e326c6-95e7-4208-8425-b32056d987b5",
   "metadata": {},
   "source": [
    " ### Timestamps"
   ]
  },
  {
   "cell_type": "code",
   "execution_count": 5,
   "id": "d61ecf36-35e1-4694-be2c-8a8920bcdd2e",
   "metadata": {},
   "outputs": [
    {
     "data": {
      "text/html": [
       "<div>\n",
       "<style scoped>\n",
       "    .dataframe tbody tr th:only-of-type {\n",
       "        vertical-align: middle;\n",
       "    }\n",
       "\n",
       "    .dataframe tbody tr th {\n",
       "        vertical-align: top;\n",
       "    }\n",
       "\n",
       "    .dataframe thead th {\n",
       "        text-align: right;\n",
       "    }\n",
       "</style>\n",
       "<table border=\"1\" class=\"dataframe\">\n",
       "  <thead>\n",
       "    <tr style=\"text-align: right;\">\n",
       "      <th></th>\n",
       "      <th>TX_DATETIME</th>\n",
       "    </tr>\n",
       "  </thead>\n",
       "  <tbody>\n",
       "    <tr>\n",
       "      <th>1744506</th>\n",
       "      <td>2018-09-30 00:00:01</td>\n",
       "    </tr>\n",
       "    <tr>\n",
       "      <th>1744507</th>\n",
       "      <td>2018-09-30 00:00:27</td>\n",
       "    </tr>\n",
       "    <tr>\n",
       "      <th>1744508</th>\n",
       "      <td>2018-09-30 00:00:38</td>\n",
       "    </tr>\n",
       "    <tr>\n",
       "      <th>1744509</th>\n",
       "      <td>2018-09-30 00:01:49</td>\n",
       "    </tr>\n",
       "    <tr>\n",
       "      <th>1744510</th>\n",
       "      <td>2018-09-30 00:02:09</td>\n",
       "    </tr>\n",
       "  </tbody>\n",
       "</table>\n",
       "</div>"
      ],
      "text/plain": [
       "                TX_DATETIME\n",
       "1744506 2018-09-30 00:00:01\n",
       "1744507 2018-09-30 00:00:27\n",
       "1744508 2018-09-30 00:00:38\n",
       "1744509 2018-09-30 00:01:49\n",
       "1744510 2018-09-30 00:02:09"
      ]
     },
     "execution_count": 5,
     "metadata": {},
     "output_type": "execute_result"
    }
   ],
   "source": [
    "df['TX_DATETIME'] = pd.to_datetime(df['TX_DATETIME'])\n",
    "\n",
    "df[['TX_DATETIME']].head()\n"
   ]
  },
  {
   "cell_type": "code",
   "execution_count": 6,
   "id": "140b7d7b-8026-4588-8c56-e1b0200380f3",
   "metadata": {},
   "outputs": [
    {
     "data": {
      "text/html": [
       "<div>\n",
       "<style scoped>\n",
       "    .dataframe tbody tr th:only-of-type {\n",
       "        vertical-align: middle;\n",
       "    }\n",
       "\n",
       "    .dataframe tbody tr th {\n",
       "        vertical-align: top;\n",
       "    }\n",
       "\n",
       "    .dataframe thead th {\n",
       "        text-align: right;\n",
       "    }\n",
       "</style>\n",
       "<table border=\"1\" class=\"dataframe\">\n",
       "  <thead>\n",
       "    <tr style=\"text-align: right;\">\n",
       "      <th></th>\n",
       "      <th>TX_HOUR</th>\n",
       "      <th>TX_DAY_OF_WEEK</th>\n",
       "      <th>TX_WEEK_OF_YEAR</th>\n",
       "      <th>TX_IS_WEEKEND</th>\n",
       "    </tr>\n",
       "  </thead>\n",
       "  <tbody>\n",
       "    <tr>\n",
       "      <th>1744506</th>\n",
       "      <td>0</td>\n",
       "      <td>6</td>\n",
       "      <td>39</td>\n",
       "      <td>1</td>\n",
       "    </tr>\n",
       "    <tr>\n",
       "      <th>1744507</th>\n",
       "      <td>0</td>\n",
       "      <td>6</td>\n",
       "      <td>39</td>\n",
       "      <td>1</td>\n",
       "    </tr>\n",
       "    <tr>\n",
       "      <th>1744508</th>\n",
       "      <td>0</td>\n",
       "      <td>6</td>\n",
       "      <td>39</td>\n",
       "      <td>1</td>\n",
       "    </tr>\n",
       "    <tr>\n",
       "      <th>1744509</th>\n",
       "      <td>0</td>\n",
       "      <td>6</td>\n",
       "      <td>39</td>\n",
       "      <td>1</td>\n",
       "    </tr>\n",
       "    <tr>\n",
       "      <th>1744510</th>\n",
       "      <td>0</td>\n",
       "      <td>6</td>\n",
       "      <td>39</td>\n",
       "      <td>1</td>\n",
       "    </tr>\n",
       "  </tbody>\n",
       "</table>\n",
       "</div>"
      ],
      "text/plain": [
       "         TX_HOUR  TX_DAY_OF_WEEK  TX_WEEK_OF_YEAR  TX_IS_WEEKEND\n",
       "1744506        0               6               39              1\n",
       "1744507        0               6               39              1\n",
       "1744508        0               6               39              1\n",
       "1744509        0               6               39              1\n",
       "1744510        0               6               39              1"
      ]
     },
     "execution_count": 6,
     "metadata": {},
     "output_type": "execute_result"
    }
   ],
   "source": [
    "# Extract Hour, Day of the Week, and Week of the Year\n",
    "df['TX_HOUR'] = df['TX_DATETIME'].dt.hour\n",
    "df['TX_DAY_OF_WEEK'] = df['TX_DATETIME'].dt.dayofweek  # 0 = Monday, 6 = Sunday\n",
    "df['TX_WEEK_OF_YEAR'] = df['TX_DATETIME'].dt.isocalendar().week  # Week number\n",
    "\n",
    "# Create a feature: Is Weekend? (1 if Saturday/Sunday, else 0)\n",
    "df['TX_IS_WEEKEND'] = df['TX_DAY_OF_WEEK'].apply(lambda x: 1 if x >= 5 else 0)\n",
    "\n",
    "# Drop TX_DATETIME (not needed for modeling)\n",
    "df.drop(columns=['TX_DATETIME'], inplace=True)\n",
    "\n",
    "# Display the new features\n",
    "df[['TX_HOUR', 'TX_DAY_OF_WEEK', 'TX_WEEK_OF_YEAR', 'TX_IS_WEEKEND']].head()\n"
   ]
  },
  {
   "cell_type": "code",
   "execution_count": 7,
   "id": "72fe6d33-7d4d-47e8-9c4f-0d63bda19427",
   "metadata": {},
   "outputs": [
    {
     "data": {
      "text/html": [
       "<div>\n",
       "<style scoped>\n",
       "    .dataframe tbody tr th:only-of-type {\n",
       "        vertical-align: middle;\n",
       "    }\n",
       "\n",
       "    .dataframe tbody tr th {\n",
       "        vertical-align: top;\n",
       "    }\n",
       "\n",
       "    .dataframe thead th {\n",
       "        text-align: right;\n",
       "    }\n",
       "</style>\n",
       "<table border=\"1\" class=\"dataframe\">\n",
       "  <thead>\n",
       "    <tr style=\"text-align: right;\">\n",
       "      <th></th>\n",
       "      <th>CUSTOMER_ID</th>\n",
       "      <th>TERMINAL_ID</th>\n",
       "    </tr>\n",
       "  </thead>\n",
       "  <tbody>\n",
       "    <tr>\n",
       "      <th>1744506</th>\n",
       "      <td>3279</td>\n",
       "      <td>4640</td>\n",
       "    </tr>\n",
       "    <tr>\n",
       "      <th>1744507</th>\n",
       "      <td>2731</td>\n",
       "      <td>3283</td>\n",
       "    </tr>\n",
       "    <tr>\n",
       "      <th>1744508</th>\n",
       "      <td>2430</td>\n",
       "      <td>733</td>\n",
       "    </tr>\n",
       "    <tr>\n",
       "      <th>1744509</th>\n",
       "      <td>1005</td>\n",
       "      <td>5104</td>\n",
       "    </tr>\n",
       "    <tr>\n",
       "      <th>1744510</th>\n",
       "      <td>915</td>\n",
       "      <td>818</td>\n",
       "    </tr>\n",
       "  </tbody>\n",
       "</table>\n",
       "</div>"
      ],
      "text/plain": [
       "         CUSTOMER_ID  TERMINAL_ID\n",
       "1744506         3279         4640\n",
       "1744507         2731         3283\n",
       "1744508         2430          733\n",
       "1744509         1005         5104\n",
       "1744510          915          818"
      ]
     },
     "execution_count": 7,
     "metadata": {},
     "output_type": "execute_result"
    }
   ],
   "source": [
    "# 📌 5️⃣ Encode Categorical Features (CUSTOMER_ID & TERMINAL_ID)\n",
    "\n",
    "# Encode CUSTOMER_ID\n",
    "customer_encoder = LabelEncoder()\n",
    "df['CUSTOMER_ID'] = customer_encoder.fit_transform(df['CUSTOMER_ID'])\n",
    "\n",
    "# Encode TERMINAL_ID\n",
    "terminal_encoder = LabelEncoder()\n",
    "df['TERMINAL_ID'] = terminal_encoder.fit_transform(df['TERMINAL_ID'])\n",
    "\n",
    "# Display encoded columns\n",
    "df[['CUSTOMER_ID', 'TERMINAL_ID']].head()\n"
   ]
  },
  {
   "cell_type": "code",
   "execution_count": 8,
   "id": "f0771d68-adf0-45a7-88cf-5088bf2d1638",
   "metadata": {},
   "outputs": [
    {
     "data": {
      "text/html": [
       "<div>\n",
       "<style scoped>\n",
       "    .dataframe tbody tr th:only-of-type {\n",
       "        vertical-align: middle;\n",
       "    }\n",
       "\n",
       "    .dataframe tbody tr th {\n",
       "        vertical-align: top;\n",
       "    }\n",
       "\n",
       "    .dataframe thead th {\n",
       "        text-align: right;\n",
       "    }\n",
       "</style>\n",
       "<table border=\"1\" class=\"dataframe\">\n",
       "  <thead>\n",
       "    <tr style=\"text-align: right;\">\n",
       "      <th></th>\n",
       "      <th>TX_AMOUNT</th>\n",
       "    </tr>\n",
       "  </thead>\n",
       "  <tbody>\n",
       "    <tr>\n",
       "      <th>1744506</th>\n",
       "      <td>-0.968810</td>\n",
       "    </tr>\n",
       "    <tr>\n",
       "      <th>1744507</th>\n",
       "      <td>3.971312</td>\n",
       "    </tr>\n",
       "    <tr>\n",
       "      <th>1744508</th>\n",
       "      <td>-1.051134</td>\n",
       "    </tr>\n",
       "    <tr>\n",
       "      <th>1744509</th>\n",
       "      <td>-0.463579</td>\n",
       "    </tr>\n",
       "    <tr>\n",
       "      <th>1744510</th>\n",
       "      <td>0.173606</td>\n",
       "    </tr>\n",
       "  </tbody>\n",
       "</table>\n",
       "</div>"
      ],
      "text/plain": [
       "         TX_AMOUNT\n",
       "1744506  -0.968810\n",
       "1744507   3.971312\n",
       "1744508  -1.051134\n",
       "1744509  -0.463579\n",
       "1744510   0.173606"
      ]
     },
     "execution_count": 8,
     "metadata": {},
     "output_type": "execute_result"
    }
   ],
   "source": [
    "# 📌 6️⃣ Normalize Numeric Features using StandardScaler\n",
    "\n",
    "scaler = StandardScaler()\n",
    "\n",
    "# Scale TX_AMOUNT\n",
    "df['TX_AMOUNT'] = scaler.fit_transform(df[['TX_AMOUNT']])\n",
    "\n",
    "# Display scaled feature\n",
    "df[['TX_AMOUNT']].head()\n"
   ]
  },
  {
   "cell_type": "code",
   "execution_count": 9,
   "id": "9ca78739-1997-42d9-a957-d14931e2df9b",
   "metadata": {},
   "outputs": [
    {
     "name": "stdout",
     "output_type": "stream",
     "text": [
      "Processed data saved to processed_data.pkl ✅\n"
     ]
    }
   ],
   "source": [
    "# 📌 7️⃣ Save the Processed Data as Pickle (for Modeling)\n",
    "df.to_csv(\"processed_data.csv\", index=False)  \n",
    "processed_path = \"processed_data.pkl\"\n",
    "with open(processed_path, \"wb\") as f:\n",
    "    pickle.dump(df, f)\n",
    "\n",
    "print(f\"Processed data saved to {processed_path} ✅\")\n"
   ]
  },
  {
   "cell_type": "code",
   "execution_count": null,
   "id": "e05d62e7-68ae-40c3-94bf-98cf5db61a1f",
   "metadata": {},
   "outputs": [],
   "source": []
  }
 ],
 "metadata": {
  "kernelspec": {
   "display_name": "Python 3 (ipykernel)",
   "language": "python",
   "name": "python3"
  },
  "language_info": {
   "codemirror_mode": {
    "name": "ipython",
    "version": 3
   },
   "file_extension": ".py",
   "mimetype": "text/x-python",
   "name": "python",
   "nbconvert_exporter": "python",
   "pygments_lexer": "ipython3",
   "version": "3.12.4"
  }
 },
 "nbformat": 4,
 "nbformat_minor": 5
}
